{
 "cells": [
  {
   "cell_type": "code",
   "execution_count": null,
   "id": "7f914db3",
   "metadata": {},
   "outputs": [],
   "source": [
    "import fuzzycmeans as fcm#main\n",
    "from skimage import io, color\n",
    "import numpy as np\n",
    "from skimage.morphology import disk, opening\n",
    "import cv2\n",
    "import os\n",
    "from sklearn.model_selection import train_test_split\n",
    "from sklearn.svm import SVC\n",
    "from sklearn.metrics import accuracy_score\n",
    "import matplotlib.pyplot as plt"
   ]
  },
  {
   "cell_type": "code",
   "execution_count": null,
   "id": "a3a154ba",
   "metadata": {},
   "outputs": [],
   "source": [
    "# Load the image\n",
    "filename = 'h.jpg'  # Provide the path to your image\n",
    "I = io.imread(filename)"
   ]
  },
  {
   "cell_type": "code",
   "execution_count": null,
   "id": "0b7af758",
   "metadata": {},
   "outputs": [],
   "source": [
    "# Check if the image is grayscale\n",
    "if len(I.shape) == 3 and I.shape[2] == 3:\n",
    "    # Convert RGB image to grayscale\n",
    "    I = color.rgb2gray(I)"
   ]
  },
  {
   "cell_type": "code",
   "execution_count": null,
   "id": "6cc46f9b",
   "metadata": {},
   "outputs": [],
   "source": [
    "# Define the number of clusters (2 for brain and tumor)\n",
    "num_clusters = 2"
   ]
  },
  {
   "cell_type": "code",
   "execution_count": null,
   "id": "6cb99b2b",
   "metadata": {},
   "outputs": [],
   "source": [
    "# Reshape the image to a 1D array (feature vector)\n",
    "num_pixels = I.size\n",
    "feature_vector = I.reshape(num_pixels, 1)"
   ]
  },
  {
   "cell_type": "code",
   "execution_count": null,
   "id": "b6a42b0c",
   "metadata": {},
   "outputs": [],
   "source": [
    "# Fuzzy C-Means clustering\n",
    "fcm_instance = fcm.FCM(n_clusters=num_clusters)\n",
    "fcm_instance.fit(feature_vector)"
   ]
  },
  {
   "cell_type": "code",
   "execution_count": null,
   "id": "edfadf32",
   "metadata": {},
   "outputs": [],
   "source": [
    "# Get the membership matrix\n",
    "u = fcm_instance.u"
   ]
  },
  {
   "cell_type": "code",
   "execution_count": null,
   "id": "675871e5",
   "metadata": {},
   "outputs": [],
   "source": [
    "# Determine the cluster for each pixel\n",
    "idx = np.argmax(u, axis=1)\n",
    "segmented_image = idx.reshape(I.shape)"
   ]
  },
  {
   "cell_type": "code",
   "execution_count": null,
   "id": "323c8c79",
   "metadata": {},
   "outputs": [],
   "source": [
    "# Create a mask for the tumor region\n",
    "tumor_mask = segmented_image == 1  # Assuming tumor is cluster 1"
   ]
  },
  {
   "cell_type": "code",
   "execution_count": null,
   "id": "a308cde9",
   "metadata": {},
   "outputs": [],
   "source": [
    "# Apply morphological operations to further refine the tumor region\n",
    "se = disk(5)  # Define a disk-shaped structuring element\n",
    "tumor_mask = opening(tumor_mask, se)  # Perform morphological opening"
   ]
  },
  {
   "cell_type": "code",
   "execution_count": null,
   "id": "193661c2",
   "metadata": {},
   "outputs": [],
   "source": [
    "# Extract features from the tumor region for classification\n",
    "tumor_features = []\n",
    "for filename in os.listdir(r'C:\\Users\\Ajinkya\\Desktop\\Final Year project\\data_migration\\yes'):\n",
    "    img_path = os.path.join(r'C:\\Users\\Ajinkya\\Desktop\\Final Year project\\data_migration\\yes', filename)\n",
    "    img = cv2.imread(img_path, cv2.IMREAD_GRAYSCALE)  # Read image in grayscale\n",
    "    img = cv2.medianBlur(img, 3)  # Apply median filter to remove noise\n",
    "    img = cv2.threshold(img, 0, 255, cv2.THRESH_BINARY_INV + cv2.THRESH_OTSU)[1]  # Apply Otsu thresholding\n",
    "    # Resize image to a consistent size (e.g., 100x100)\n",
    "    img = cv2.resize(img, (100, 100))\n",
    "    # Check if the shape of the feature vector is consistent\n",
    "    if img.flatten().shape[0] == 100 * 100:\n",
    "        tumor_features.append(img.flatten())\n",
    "    else:\n",
    "        print(f\"Ignoring {filename}: Inconsistent feature vector shape\")"
   ]
  },
  {
   "cell_type": "code",
   "execution_count": null,
   "id": "c28a719c",
   "metadata": {},
   "outputs": [],
   "source": [
    "# Similarly, extract features from the non-tumor region for classification\n",
    "non_tumor_features = []\n",
    "for filename in os.listdir(r'C:\\Users\\Ajinkya\\Desktop\\Final Year project\\data_migration\\no'):\n",
    "    img_path = os.path.join(r'C:\\Users\\Ajinkya\\Desktop\\Final Year project\\data_migration\\no', filename)\n",
    "    img = cv2.imread(img_path, cv2.IMREAD_GRAYSCALE)  # Read image in grayscale\n",
    "    img = cv2.medianBlur(img, 3)  # Apply median filter to remove noise\n",
    "    img = cv2.threshold(img, 0, 255, cv2.THRESH_BINARY_INV + cv2.THRESH_OTSU)[1]  # Apply Otsu thresholding\n",
    "    # Resize image to a consistent size (e.g., 100x100)\n",
    "    img = cv2.resize(img, (100, 100))\n",
    "    # Check if the shape of the feature vector is consistent\n",
    "    if img.flatten().shape[0] == 100 * 100:\n",
    "        non_tumor_features.append(img.flatten())\n",
    "    else:\n",
    "        print(f\"Ignoring {filename}: Inconsistent feature vector shape\")"
   ]
  },
  {
   "cell_type": "code",
   "execution_count": null,
   "id": "3bf2de67",
   "metadata": {},
   "outputs": [],
   "source": [
    "# Combine features and labels\n",
    "X = np.vstack((tumor_features, non_tumor_features))\n",
    "y = np.concatenate((np.ones(len(tumor_features)), np.zeros(len(non_tumor_features))))"
   ]
  },
  {
   "cell_type": "code",
   "execution_count": null,
   "id": "72c19d6c",
   "metadata": {},
   "outputs": [],
   "source": [
    "# Split the data into training and testing sets\n",
    "X_train, X_test, y_train, y_test = train_test_split(X, y, test_size=0.2, random_state=42)"
   ]
  },
  {
   "cell_type": "code",
   "execution_count": null,
   "id": "b52a8315",
   "metadata": {},
   "outputs": [],
   "source": [
    "# Train a Support Vector Machine (SVM) model\n",
    "svm_model = SVC(kernel='linear')\n",
    "svm_model.fit(X_train, y_train)"
   ]
  },
  {
   "cell_type": "code",
   "execution_count": null,
   "id": "aefeba3b",
   "metadata": {},
   "outputs": [],
   "source": [
    "# Predict on the test set\n",
    "y_pred = svm_model.predict(X_test)"
   ]
  },
  {
   "cell_type": "code",
   "execution_count": null,
   "id": "a8d8fcc7",
   "metadata": {},
   "outputs": [],
   "source": [
    "# Calculate accuracy\n",
    "accuracy = accuracy_score(y_test, y_pred)\n",
    "print(\"Accuracy:\", accuracy)"
   ]
  },
  {
   "cell_type": "code",
   "execution_count": null,
   "id": "94912b24",
   "metadata": {},
   "outputs": [],
   "source": [
    "# Apply tumor mask to original image\n",
    "highlighted_image = np.copy(I)\n",
    "highlighted_image[tumor_mask] = 1  # Highlight tumor region"
   ]
  },
  {
   "cell_type": "code",
   "execution_count": null,
   "id": "cbedabe6",
   "metadata": {},
   "outputs": [],
   "source": [
    "# Display the highlighted image\n",
    "plt.imshow(highlighted_image, cmap='Oranges')\n",
    "plt.title('Highlighted Tumor Region')\n",
    "plt.axis('off')\n",
    "plt.show()"
   ]
  }
 ],
 "metadata": {
  "jupytext": {
   "cell_metadata_filter": "-all",
   "main_language": "python",
   "notebook_metadata_filter": "-all"
  }
 },
 "nbformat": 4,
 "nbformat_minor": 5
}
